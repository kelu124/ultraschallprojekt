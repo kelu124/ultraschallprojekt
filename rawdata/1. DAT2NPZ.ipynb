{
 "cells": [
  {
   "cell_type": "markdown",
   "metadata": {},
   "source": [
    "# Converting data files to numpy arrays to facilitate further processing"
   ]
  },
  {
   "cell_type": "code",
   "execution_count": null,
   "metadata": {
    "collapsed": true
   },
   "outputs": [],
   "source": [
    "import matplotlib.pyplot as plt\n",
    "import numpy as np\n",
    "from scipy import signal\n",
    "from scipy.signal import decimate, convolve\n",
    "import math\n",
    "from scipy.interpolate import griddata\n",
    "\n",
    "ADC2_GPIO = [7, 8,9,10,11,23,24,25]t\n",
    "ADC2len = len( ADC2_GPIO)\n",
    "\n",
    "def GetSeries(Volts):\n",
    "    \n",
    "    Map = np.zeros((len(Volts)-1,34), dtype=np.int)#why 34 here?\n",
    "    for i in range(len(Volts)-1):\n",
    "        val = Volts[i]\n",
    "        for k in range(34):\n",
    "            Map[i][k] = (val & 2**k)/2**k\n",
    "        if not (i%10000):\n",
    "            print i\n",
    "    return Map\n",
    "\n",
    "def GetV(Volts):\n",
    "    Signal = [] \n",
    "    for i in range(len(Volts)):\n",
    "        if not (i%100000):\n",
    "            print 100.0*i/len(Volts)\n",
    "        val = Volts[i]\n",
    "        SignalZero = 0 \n",
    "        for k in range(ADC2len):\n",
    "            SignalZero += 2**k*((val & 2**ADC2_GPIO[k])/2**ADC2_GPIO[k])\n",
    "        Signal.append(SignalZero)\n",
    "\n",
    "    return Signal\n",
    "\n",
    "def GetV2(Volts):\n",
    "    Signal = []\n",
    "    Map = np.zeros((len(Volts),ADC2len), dtype=np.int)\n",
    "    for i in range(len(Volts)):\n",
    "        if not (i%100000):\n",
    "            print 100.0*i/len(Volts)\n",
    "        val = Volts[i]\n",
    "        SignalZero = 0\n",
    "        for k in range(ADC2len):\n",
    "            Map[i][k] = (val & 2**k)/2**k\n",
    "        for k in range(ADC2len):\n",
    "            SignalZero += 2**k*((val & 2**ADC2_GPIO[k])/2**ADC2_GPIO[k])\n",
    "        Signal.append(SignalZero)\n",
    "\n",
    "    return Signal,Map"
   ]
  },
  {
   "cell_type": "code",
   "execution_count": 28,
   "metadata": {
    "collapsed": true
   },
   "outputs": [],
   "source": [
    "filename = \"hannes12.dat\"\n",
    "Bytes = np.fromfile(filename, dtype = '<i4')"
   ]
  },
  {
   "cell_type": "code",
   "execution_count": 29,
   "metadata": {
    "collapsed": false
   },
   "outputs": [
    {
     "name": "stdout",
     "output_type": "stream",
     "text": [
      "0.0\n",
      "9.99999000001\n",
      "19.99998\n",
      "29.99997\n",
      "39.99996\n",
      "49.99995\n",
      "59.9999400001\n",
      "69.9999300001\n",
      "79.9999200001\n",
      "89.9999100001\n",
      "99.9999000001\n"
     ]
    }
   ],
   "source": [
    "M = GetV(Bytes)\n"
   ]
  },
  {
   "cell_type": "code",
   "execution_count": 32,
   "metadata": {
    "collapsed": false
   },
   "outputs": [
    {
     "name": "stdout",
     "output_type": "stream",
     "text": [
      "1000000\n",
      "1205242116\n",
      "0.829708808483\n"
     ]
    }
   ],
   "source": [
    "#n = len(Bytes)\n",
    "n = len(Bytes)-1#did you mean this?\n",
    "print n\n",
    "#Map = GetSeries(Bytes)\n",
    "Duration = Bytes[-1]\n",
    "print Duration\n",
    "#Map = GetSeries(Bytes)#did you mean this?\n",
    "Fech = n*1.0/(Duration*1e-9)/1e6 # 1e-9 because Duration is in ns, 1e6 because Fech in Msps\n",
    "print Fech"
   ]
  },
  {
   "cell_type": "code",
   "execution_count": 33,
   "metadata": {
    "collapsed": false,
    "scrolled": true
   },
   "outputs": [
    {
     "name": "stdout",
     "output_type": "stream",
     "text": [
      "go\n"
     ]
    },
    {
     "data": {
      "image/png": "[encoded data removed]",
      "text/plain": [
       "<matplotlib.figure.Figure at 0x7f957a1a6650>"
      ]
     },
     "metadata": {},
     "output_type": "display_data"
    }
   ],
   "source": [
    "t = range(n)\n",
    "for k in range(n):\n",
    "    t[k] = 1.0*t[k]/Fech\n",
    "#M = GetV2(Bytes)[0]\n",
    "print \"go\"\n",
    "#M = GetV2(Bytes[:-1])[0]#did you mean this?\n",
    "\n",
    "plt.plot(t,M[0:n])\n",
    "plt.xlabel('t in us')\n",
    "plt.title(\"File: \"+filename+\". Sampling freq is \"+str(Fech)+\" Msps.\")\n",
    "plt.savefig(filename.split(\".\")[0]+'-all.png')  \n",
    "plt.show()"
   ]
  },
  {
   "cell_type": "code",
   "execution_count": 34,
   "metadata": {
    "collapsed": true
   },
   "outputs": [],
   "source": [
    "np.savez_compressed(filename.split(\".\")[0]+'.npz', M=M, t=t)"
   ]
  },
  {
   "cell_type": "code",
   "execution_count": 35,
   "metadata": {
    "collapsed": true
   },
   "outputs": [],
   "source": [
    "loaded = np.load(filename.split(\".\")[0]+'.npz')"
   ]
  },
  {
   "cell_type": "code",
   "execution_count": 36,
   "metadata": {
    "collapsed": false
   },
   "outputs": [
    {
     "data": {
      "text/plain": [
       "['M', 't']"
      ]
     },
     "execution_count": 36,
     "metadata": {},
     "output_type": "execute_result"
    }
   ],
   "source": [
    "loaded.keys()"
   ]
  },
  {
   "cell_type": "markdown",
   "metadata": {},
   "source": [
    "# OK, played enough.\n",
    "Let's process data and make graphs and npz (numpy archives)."
   ]
  },
  {
   "cell_type": "code",
   "execution_count": 1,
   "metadata": {
    "collapsed": true
   },
   "outputs": [],
   "source": [
    "from DAT2NPZ import *\n",
    "import glob, os"
   ]
  },
  {
   "cell_type": "code",
   "execution_count": 48,
   "metadata": {
    "collapsed": false,
    "scrolled": true
   },
   "outputs": [
    {
     "name": "stdout",
     "output_type": "stream",
     "text": [
      "0.0\n",
      "99.99900001\n",
      "100000\n",
      "9023924\n",
      "11.0816536132\n",
      "go\n",
      "0.0\n",
      "99.99900001\n",
      "100000\n",
      "9023914\n",
      "11.0816658935\n",
      "go\n",
      "0.0\n",
      "10000\n",
      "851992\n",
      "11.7371994103\n",
      "go\n",
      "0.0\n",
      "9.99999000001\n",
      "19.99998\n",
      "29.99997\n"
     ]
    },
    {
     "ename": "KeyboardInterrupt",
     "evalue": "",
     "output_type": "error",
     "traceback": [
      "\u001b[0;31m---------------------------------------------------------------------------\u001b[0m",
      "\u001b[0;31mKeyboardInterrupt\u001b[0m                         Traceback (most recent call last)",
      "\u001b[0;32m<ipython-input-48-b10466169f05>\u001b[0m in \u001b[0;36m<module>\u001b[0;34m()\u001b[0m\n\u001b[1;32m      1\u001b[0m \u001b[0mos\u001b[0m\u001b[0;34m.\u001b[0m\u001b[0mchdir\u001b[0m\u001b[0;34m(\u001b[0m\u001b[0;34m\"./\"\u001b[0m\u001b[0;34m)\u001b[0m\u001b[0;34m\u001b[0m\u001b[0m\n\u001b[1;32m      2\u001b[0m \u001b[0;32mfor\u001b[0m \u001b[0mfile\u001b[0m \u001b[0;32min\u001b[0m \u001b[0mglob\u001b[0m\u001b[0;34m.\u001b[0m\u001b[0mglob\u001b[0m\u001b[0;34m(\u001b[0m\u001b[0;34m\"*.dat\"\u001b[0m\u001b[0;34m)\u001b[0m\u001b[0;34m:\u001b[0m\u001b[0;34m\u001b[0m\u001b[0m\n\u001b[0;32m----> 3\u001b[0;31m     \u001b[0mCreateNPZ\u001b[0m\u001b[0;34m(\u001b[0m\u001b[0mfile\u001b[0m\u001b[0;34m)\u001b[0m\u001b[0;34m\u001b[0m\u001b[0m\n\u001b[0m",
      "\u001b[0;32m/home/kelu/ultrasound/felix/rawdata/DAT2NPZ.py\u001b[0m in \u001b[0;36mCreateNPZ\u001b[0;34m(filename)\u001b[0m\n\u001b[1;32m     55\u001b[0m         \u001b[0mBytes\u001b[0m \u001b[0;34m=\u001b[0m \u001b[0mnp\u001b[0m\u001b[0;34m.\u001b[0m\u001b[0mfromfile\u001b[0m\u001b[0;34m(\u001b[0m\u001b[0mfilename\u001b[0m\u001b[0;34m,\u001b[0m \u001b[0mdtype\u001b[0m \u001b[0;34m=\u001b[0m \u001b[0;34m'<i4'\u001b[0m\u001b[0;34m)\u001b[0m\u001b[0;34m\u001b[0m\u001b[0m\n\u001b[1;32m     56\u001b[0m \u001b[0;34m\u001b[0m\u001b[0m\n\u001b[0;32m---> 57\u001b[0;31m         \u001b[0mM\u001b[0m \u001b[0;34m=\u001b[0m \u001b[0mGetV\u001b[0m\u001b[0;34m(\u001b[0m\u001b[0mBytes\u001b[0m\u001b[0;34m)\u001b[0m\u001b[0;34m\u001b[0m\u001b[0m\n\u001b[0m\u001b[1;32m     58\u001b[0m \u001b[0;34m\u001b[0m\u001b[0m\n\u001b[1;32m     59\u001b[0m \u001b[0;34m\u001b[0m\u001b[0m\n",
      "\u001b[0;32m/home/kelu/ultrasound/felix/rawdata/DAT2NPZ.py\u001b[0m in \u001b[0;36mGetV\u001b[0;34m(Volts)\u001b[0m\n\u001b[1;32m     28\u001b[0m         \u001b[0mSignalZero\u001b[0m \u001b[0;34m=\u001b[0m \u001b[0;36m0\u001b[0m\u001b[0;34m\u001b[0m\u001b[0m\n\u001b[1;32m     29\u001b[0m         \u001b[0;32mfor\u001b[0m \u001b[0mk\u001b[0m \u001b[0;32min\u001b[0m \u001b[0mrange\u001b[0m\u001b[0;34m(\u001b[0m\u001b[0mADC2len\u001b[0m\u001b[0;34m)\u001b[0m\u001b[0;34m:\u001b[0m\u001b[0;34m\u001b[0m\u001b[0m\n\u001b[0;32m---> 30\u001b[0;31m             \u001b[0mSignalZero\u001b[0m \u001b[0;34m+=\u001b[0m \u001b[0;36m2\u001b[0m\u001b[0;34m**\u001b[0m\u001b[0mk\u001b[0m\u001b[0;34m*\u001b[0m\u001b[0;34m(\u001b[0m\u001b[0;34m(\u001b[0m\u001b[0mval\u001b[0m \u001b[0;34m&\u001b[0m \u001b[0;36m2\u001b[0m\u001b[0;34m**\u001b[0m\u001b[0mADC2_GPIO\u001b[0m\u001b[0;34m[\u001b[0m\u001b[0mk\u001b[0m\u001b[0;34m]\u001b[0m\u001b[0;34m)\u001b[0m\u001b[0;34m/\u001b[0m\u001b[0;36m2\u001b[0m\u001b[0;34m**\u001b[0m\u001b[0mADC2_GPIO\u001b[0m\u001b[0;34m[\u001b[0m\u001b[0mk\u001b[0m\u001b[0;34m]\u001b[0m\u001b[0;34m)\u001b[0m\u001b[0;34m\u001b[0m\u001b[0m\n\u001b[0m\u001b[1;32m     31\u001b[0m         \u001b[0mSignal\u001b[0m\u001b[0;34m.\u001b[0m\u001b[0mappend\u001b[0m\u001b[0;34m(\u001b[0m\u001b[0mSignalZero\u001b[0m\u001b[0;34m)\u001b[0m\u001b[0;34m\u001b[0m\u001b[0m\n\u001b[1;32m     32\u001b[0m \u001b[0;34m\u001b[0m\u001b[0m\n",
      "\u001b[0;31mKeyboardInterrupt\u001b[0m: "
     ]
    }
   ],
   "source": [
    "os.chdir(\"./\")\n",
    "for file in glob.glob(\"*.dat\"):\n",
    "    CreateNPZ(file)"
   ]
  },
  {
   "cell_type": "code",
   "execution_count": 2,
   "metadata": {
    "collapsed": true
   },
   "outputs": [],
   "source": [
    "loaded = np.load('hannes01.npz')\n",
    "t = loaded[\"t\"]\n",
    "M = loaded[\"M\"]"
   ]
  },
  {
   "cell_type": "code",
   "execution_count": 4,
   "metadata": {
    "collapsed": false
   },
   "outputs": [
    {
     "data": {
      "image/png": "[encoded data removed]",
      "text/plain": [
       "<matplotlib.figure.Figure at 0x7fa8884de610>"
      ]
     },
     "metadata": {},
     "output_type": "display_data"
    }
   ],
   "source": [
    "d0 = 7000\n",
    "dplus = 3000\n",
    "plt.plot(t[d0:d0+dplus],M[d0:d0+dplus])\n",
    "plt.xlabel('t in us')\n",
    "plt.show()"
   ]
  },
  {
   "cell_type": "code",
   "execution_count": 14,
   "metadata": {
    "collapsed": false
   },
   "outputs": [
    {
     "data": {
      "image/png": "[encoded data removed]",
      "text/plain": [
       "<matplotlib.figure.Figure at 0x7fa887e13b50>"
      ]
     },
     "metadata": {},
     "output_type": "display_data"
    }
   ],
   "source": [
    "# Let's map this signal in distance\n",
    "# 2000 pts correspond to ~900-725 = 175us\n",
    "# a peak at 1m corresponds to 2m in distance. The speed is 1450m/s. So a distance of 1m corresponds to 2/1450 s.\n",
    "d = []\n",
    "for k in range(dplus):\n",
    "    d.append(0.75*t[k] ) ## 1us for 750m/s is 0.75mm\n",
    "plt.plot(d,M[d0:d0+dplus],\"g\")\n",
    "plt.plot(d,M[d0+10000:d0+dplus+10000],\"b\")\n",
    "plt.plot(d,M[d0+20000:d0+dplus+20000],\"c\")\n",
    "plt.plot(d,M[d0+30000:d0+dplus+30000],\"r\")\n",
    "plt.title('File is hannes01.npz')\n",
    "plt.xlabel('Distance in mm') # us in 1e6\n",
    "plt.savefig(filename.split(\".\")[0]+'-detail.png') \n",
    "plt.show()"
   ]
  },
  {
   "cell_type": "code",
   "execution_count": null,
   "metadata": {
    "collapsed": true
   },
   "outputs": [],
   "source": []
  }
 ],
 "metadata": {
  "kernelspec": {
   "display_name": "Python 2",
   "language": "python",
   "name": "python2"
  },
  "language_info": {
   "codemirror_mode": {
    "name": "ipython",
    "version": 2
   },
   "file_extension": ".py",
   "mimetype": "text/x-python",
   "name": "python",
   "nbconvert_exporter": "python",
   "pygments_lexer": "ipython2",
   "version": "2.7.12"
  }
 },
 "nbformat": 4,
 "nbformat_minor": 2
}
